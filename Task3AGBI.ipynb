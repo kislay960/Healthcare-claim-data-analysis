{
  "nbformat": 4,
  "nbformat_minor": 0,
  "metadata": {
    "colab": {
      "name": "Task3AGBI.ipynb",
      "provenance": []
    },
    "kernelspec": {
      "name": "python3",
      "display_name": "Python 3"
    }
  },
  "cells": [
    {
      "cell_type": "code",
      "metadata": {
        "id": "it-MX5naQ0e5",
        "colab_type": "code",
        "colab": {}
      },
      "source": [
        "import pandas as pd"
      ],
      "execution_count": 34,
      "outputs": []
    },
    {
      "cell_type": "code",
      "metadata": {
        "id": "LKslEpXI6RTe",
        "colab_type": "code",
        "colab": {}
      },
      "source": [
        "fraud_tr = pd.read_csv('/content/Train-1542865627584.csv')\n",
        "bene_tr = pd.read_csv('/content/Train_Beneficiarydata-1542865627584.csv')\n",
        "inpatient_tr = pd.read_csv('/content/Train_Inpatientdata-1542865627584.csv')\n",
        "outpatient_tr = pd.read_csv('/content/Train_Outpatientdata-1542865627584.csv')"
      ],
      "execution_count": 35,
      "outputs": []
    },
    {
      "cell_type": "code",
      "metadata": {
        "id": "Rq1vfd1e6YGS",
        "colab_type": "code",
        "colab": {
          "base_uri": "https://localhost:8080/",
          "height": 54
        },
        "outputId": "2876edf4-a247-4620-b394-1b3d6e2e1fca"
      },
      "source": [
        "from google.colab import drive\n",
        "drive.mount('/content/drive')"
      ],
      "execution_count": 15,
      "outputs": [
        {
          "output_type": "stream",
          "text": [
            "Drive already mounted at /content/drive; to attempt to forcibly remount, call drive.mount(\"/content/drive\", force_remount=True).\n"
          ],
          "name": "stdout"
        }
      ]
    },
    {
      "cell_type": "code",
      "metadata": {
        "id": "wrffw09O6Euh",
        "colab_type": "code",
        "colab": {}
      },
      "source": [
        "In_Provider=pd.DataFrame([inpatient_tr['Provider'].value_counts().index,inpatient_tr['Provider'].value_counts()]).transpose().rename({0:'Provider',1:'Inpatient_Claim_Number'},axis=1)\n",
        "Out_Provider=pd.DataFrame([outpatient_tr['Provider'].value_counts().index,outpatient_tr['Provider'].value_counts()]).transpose().rename({0:'Provider',1:'Outpatient_Claim_Number'},axis=1)\n",
        "provider_claimnumber=pd.merge(In_Provider,Out_Provider,on='Provider',how='outer')\n",
        "inreimburse_by_provider=inpatient_tr.groupby('Provider')['InscClaimAmtReimbursed'].sum()\n",
        "inreimburse_temp1=pd.DataFrame([inreimburse_by_provider.index,inreimburse_by_provider])\n",
        "inreimburse_temp2=inreimburse_temp1.transpose()\n",
        "In_Provider_Claim=inreimburse_temp2.rename({0:'Provider',1:'Inpatient_Claim_Amount'},axis=1)\n",
        "outreimburse_by_provider=outpatient_tr.groupby('Provider')['InscClaimAmtReimbursed'].sum()\n",
        "outreimburse_temp1=pd.DataFrame([outreimburse_by_provider.index,outreimburse_by_provider])\n",
        "outreimburse_temp2=outreimburse_temp1.transpose()\n",
        "Out_Provider_Claim=outreimburse_temp2.rename({0:'Provider',1:'Outpatient_Claim_Amount'},axis=1)\n",
        "provider_claimamount=pd.merge(In_Provider_Claim,Out_Provider_Claim,on='Provider',how='outer')\n",
        "provider_list1=pd.merge(fraud_tr,provider_claimnumber,on='Provider',how='outer')\n",
        "provider_list2=pd.merge(provider_list1,provider_claimamount,on='Provider',how='outer')"
      ],
      "execution_count": 36,
      "outputs": []
    },
    {
      "cell_type": "code",
      "metadata": {
        "id": "9zU5-CGe6Nq3",
        "colab_type": "code",
        "colab": {}
      },
      "source": [
        "provider_clean=provider_list2.fillna(0)\n",
        "y = provider_clean['PotentialFraud'].values\n",
        "X = provider_clean.drop(['PotentialFraud','Provider'], axis=1).values"
      ],
      "execution_count": 37,
      "outputs": []
    },
    {
      "cell_type": "code",
      "metadata": {
        "id": "Ii_b7xMbdNY4",
        "colab_type": "code",
        "colab": {}
      },
      "source": [
        "import warnings\n",
        "warnings. filterwarnings('ignore')"
      ],
      "execution_count": 40,
      "outputs": []
    },
    {
      "cell_type": "code",
      "metadata": {
        "id": "DeSGXLqF7bby",
        "colab_type": "code",
        "colab": {
          "base_uri": "https://localhost:8080/",
          "height": 34
        },
        "outputId": "8bc0e776-354a-4b01-c0dc-0aa22a221532"
      },
      "source": [
        "import numpy as np\n",
        "from sklearn.neighbors import KNeighborsClassifier\n",
        "from sklearn.model_selection import GridSearchCV\n",
        "from sklearn.model_selection import train_test_split\n",
        "from sklearn.metrics import classification_report\n",
        "from sklearn.metrics import confusion_matrix\n",
        "from sklearn.linear_model import LogisticRegression\n",
        "X_train, X_test, y_train, y_test = train_test_split(X, y, test_size=0.3, random_state=21, stratify=y)\n",
        "param_grid = {'n_neighbors': np.arange(1, 15)}\n",
        "knn = KNeighborsClassifier()\n",
        "knn_cv = GridSearchCV(knn, param_grid, cv=5)\n",
        "knn_cv.fit(X_train, y_train)\n",
        "print('Accuracy : {}%'.format(knn_cv.best_score_*100))"
      ],
      "execution_count": 47,
      "outputs": [
        {
          "output_type": "stream",
          "text": [
            "Accuracy : 93.13429974590714%\n"
          ],
          "name": "stdout"
        }
      ]
    },
    {
      "cell_type": "code",
      "metadata": {
        "id": "5o8695jGmngB",
        "colab_type": "code",
        "colab": {}
      },
      "source": [
        ""
      ],
      "execution_count": null,
      "outputs": []
    }
  ]
}